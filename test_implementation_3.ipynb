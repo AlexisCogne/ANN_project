{
 "cells": [
  {
   "cell_type": "markdown",
   "metadata": {},
   "source": [
    "# 1. Utilities"
   ]
  },
  {
   "cell_type": "markdown",
   "metadata": {},
   "source": [
    "## 1.1 Imports\n"
   ]
  },
  {
   "cell_type": "code",
   "execution_count": 25,
   "metadata": {},
   "outputs": [
    {
     "name": "stdout",
     "output_type": "stream",
     "text": [
      "The autoreload extension is already loaded. To reload it, use:\n",
      "  %reload_ext autoreload\n"
     ]
    }
   ],
   "source": [
    "import gymnasium as gym\n",
    "import torch\n",
    "import torch.nn as nn\n",
    "import torch.nn.functional as F\n",
    "import numpy as np\n",
    "import matplotlib.pyplot as plt\n",
    "from A2C_clean import A2C\n",
    "from tqdm import tqdm\n",
    "import os\n",
    "%load_ext autoreload\n",
    "%autoreload 2"
   ]
  },
  {
   "cell_type": "markdown",
   "metadata": {},
   "source": [
    "## 1.2 Create Environment\n"
   ]
  },
  {
   "cell_type": "code",
   "execution_count": 26,
   "metadata": {},
   "outputs": [
    {
     "name": "stdout",
     "output_type": "stream",
     "text": [
      "4\n",
      "2\n"
     ]
    }
   ],
   "source": [
    "# environment hyperparams\n",
    "#option 1 :  use n_updates to define n_steps\n",
    "n_updates = 50000\n",
    "n_envs = 1\n",
    "n_steps_per_update = 1\n",
    "n_steps = n_envs * n_steps_per_update * n_updates\n",
    "\n",
    "# agent hyperparams\n",
    "gamma = 0.99  # discount factor\n",
    "ent_coef = 0.01  # coefficient for the entropy bonus (to encourage exploration)\n",
    "actor_lr = 1e-5\n",
    "critic_lr = 1e-3\n",
    "\n",
    "# Note: the actor has a slower learning rate so that the value targets become\n",
    "# more stationary and are theirfore easier to estimate for the critic\n",
    "\n",
    "# environment setup\n",
    "#envs = gym.vector.make(\"CartPole-v1\", num_envs=n_envs)\n",
    "env = gym.make(\"CartPole-v1\")\n",
    "\n",
    "obs_shape = env.observation_space.shape[0]\n",
    "print(obs_shape)\n",
    "action_shape = env.action_space.n\n",
    "print(action_shape)\n",
    "# set the device\n",
    "use_cuda = False\n",
    "if use_cuda:\n",
    "    device = torch.device(\"cuda\" if torch.cuda.is_available() else \"cpu\")\n",
    "else:\n",
    "    device = torch.device(\"cpu\")\n",
    "\n",
    "# init the agent\n",
    "agent = A2C(obs_shape, action_shape, device, critic_lr, actor_lr, n_envs)"
   ]
  },
  {
   "cell_type": "code",
   "execution_count": 27,
   "metadata": {},
   "outputs": [
    {
     "name": "stderr",
     "output_type": "stream",
     "text": [
      " 21%|██▏       | 10698/50000 [00:22<01:24, 466.90it/s]\n"
     ]
    },
    {
     "ename": "KeyboardInterrupt",
     "evalue": "",
     "output_type": "error",
     "traceback": [
      "\u001b[1;31m---------------------------------------------------------------------------\u001b[0m",
      "\u001b[1;31mKeyboardInterrupt\u001b[0m                         Traceback (most recent call last)",
      "Cell \u001b[1;32mIn[27], line 83\u001b[0m\n\u001b[0;32m     72\u001b[0m critic_loss, actor_loss \u001b[39m=\u001b[39m agent\u001b[39m.\u001b[39mget_losses(\n\u001b[0;32m     73\u001b[0m     n_rewards,\n\u001b[0;32m     74\u001b[0m     n_action_log_probs,\n\u001b[1;32m   (...)\u001b[0m\n\u001b[0;32m     79\u001b[0m     states_tensor,\n\u001b[0;32m     80\u001b[0m )\n\u001b[0;32m     82\u001b[0m \u001b[39m# update the actor and critic networks\u001b[39;00m\n\u001b[1;32m---> 83\u001b[0m agent\u001b[39m.\u001b[39;49mupdate_parameters(critic_loss, actor_loss)\n\u001b[0;32m     85\u001b[0m \u001b[39m# log the losses and entropy\u001b[39;00m\n\u001b[0;32m     86\u001b[0m critic_losses\u001b[39m.\u001b[39mappend(critic_loss\u001b[39m.\u001b[39mdetach()\u001b[39m.\u001b[39mcpu()\u001b[39m.\u001b[39mnumpy())\n",
      "File \u001b[1;32mc:\\Users\\local_B216353\\Documents\\tSCS\\ANN_project\\A2C_clean.py:162\u001b[0m, in \u001b[0;36mA2C.update_parameters\u001b[1;34m(self, critic_loss, actor_loss)\u001b[0m\n\u001b[0;32m    159\u001b[0m critic_loss\u001b[39m.\u001b[39mbackward()\n\u001b[0;32m    160\u001b[0m \u001b[39mself\u001b[39m\u001b[39m.\u001b[39mcritic_optim\u001b[39m.\u001b[39mstep()\n\u001b[1;32m--> 162\u001b[0m \u001b[39mself\u001b[39;49m\u001b[39m.\u001b[39;49mactor_optim\u001b[39m.\u001b[39;49mzero_grad()\n\u001b[0;32m    163\u001b[0m actor_loss\u001b[39m.\u001b[39mbackward()\n\u001b[0;32m    164\u001b[0m \u001b[39mself\u001b[39m\u001b[39m.\u001b[39mactor_optim\u001b[39m.\u001b[39mstep()\n",
      "File \u001b[1;32mc:\\Users\\local_B216353\\AppData\\Local\\Programs\\Python\\Python312\\Lib\\site-packages\\torch\\_compile.py:24\u001b[0m, in \u001b[0;36m_disable_dynamo.<locals>.inner\u001b[1;34m(*args, **kwargs)\u001b[0m\n\u001b[0;32m     20\u001b[0m \u001b[39m@functools\u001b[39m\u001b[39m.\u001b[39mwraps(fn)\n\u001b[0;32m     21\u001b[0m \u001b[39mdef\u001b[39;00m \u001b[39minner\u001b[39m(\u001b[39m*\u001b[39margs, \u001b[39m*\u001b[39m\u001b[39m*\u001b[39mkwargs):\n\u001b[0;32m     22\u001b[0m     \u001b[39mimport\u001b[39;00m \u001b[39mtorch\u001b[39;00m\u001b[39m.\u001b[39;00m\u001b[39m_dynamo\u001b[39;00m\n\u001b[1;32m---> 24\u001b[0m     \u001b[39mreturn\u001b[39;00m torch\u001b[39m.\u001b[39;49m_dynamo\u001b[39m.\u001b[39;49mdisable(fn, recursive)(\u001b[39m*\u001b[39margs, \u001b[39m*\u001b[39m\u001b[39m*\u001b[39mkwargs)\n",
      "File \u001b[1;32mc:\\Users\\local_B216353\\AppData\\Local\\Programs\\Python\\Python312\\Lib\\site-packages\\torch\\_dynamo\\decorators.py:50\u001b[0m, in \u001b[0;36mdisable\u001b[1;34m(fn, recursive)\u001b[0m\n\u001b[0;32m     48\u001b[0m         fn \u001b[39m=\u001b[39m innermost_fn(fn)\n\u001b[0;32m     49\u001b[0m         \u001b[39massert\u001b[39;00m \u001b[39mcallable\u001b[39m(fn)\n\u001b[1;32m---> 50\u001b[0m         \u001b[39mreturn\u001b[39;00m DisableContext()(fn)\n\u001b[0;32m     51\u001b[0m     \u001b[39mreturn\u001b[39;00m DisableContext()\n\u001b[0;32m     52\u001b[0m \u001b[39melse\u001b[39;00m:\n",
      "File \u001b[1;32mc:\\Users\\local_B216353\\AppData\\Local\\Programs\\Python\\Python312\\Lib\\site-packages\\torch\\_dynamo\\eval_frame.py:406\u001b[0m, in \u001b[0;36m_TorchDynamoContext.__call__\u001b[1;34m(self, fn)\u001b[0m\n\u001b[0;32m    403\u001b[0m \u001b[39massert\u001b[39;00m \u001b[39mcallable\u001b[39m(fn)\n\u001b[0;32m    405\u001b[0m \u001b[39mtry\u001b[39;00m:\n\u001b[1;32m--> 406\u001b[0m     filename \u001b[39m=\u001b[39m inspect\u001b[39m.\u001b[39;49mgetsourcefile(fn)\n\u001b[0;32m    407\u001b[0m \u001b[39mexcept\u001b[39;00m \u001b[39mTypeError\u001b[39;00m:\n\u001b[0;32m    408\u001b[0m     filename \u001b[39m=\u001b[39m \u001b[39mNone\u001b[39;00m\n",
      "File \u001b[1;32mc:\\Users\\local_B216353\\AppData\\Local\\Programs\\Python\\Python312\\Lib\\inspect.py:964\u001b[0m, in \u001b[0;36mgetsourcefile\u001b[1;34m(object)\u001b[0m\n\u001b[0;32m    962\u001b[0m \u001b[39mif\u001b[39;00m filename \u001b[39min\u001b[39;00m linecache\u001b[39m.\u001b[39mcache:\n\u001b[0;32m    963\u001b[0m     \u001b[39mreturn\u001b[39;00m filename\n\u001b[1;32m--> 964\u001b[0m \u001b[39mif\u001b[39;00m os\u001b[39m.\u001b[39;49mpath\u001b[39m.\u001b[39;49mexists(filename):\n\u001b[0;32m    965\u001b[0m     \u001b[39mreturn\u001b[39;00m filename\n\u001b[0;32m    966\u001b[0m \u001b[39m# only return a non-existent filename if the module has a PEP 302 loader\u001b[39;00m\n",
      "\u001b[1;31mKeyboardInterrupt\u001b[0m: "
     ]
    }
   ],
   "source": [
    "# LOGGED VARIABLES\n",
    "critic_losses = []\n",
    "actor_losses = []\n",
    "entropies = []\n",
    "episode_returns = []\n",
    "steps_episodes = [] # logs the steps taken in each episode\n",
    "\n",
    "# COUNTERS\n",
    "steps = 0\n",
    "ep_counter = 0\n",
    "ep_reward = 0\n",
    "\n",
    "# VARIABLE INITIALIZATION\n",
    "is_truncated = False\n",
    "is_terminated = False\n",
    "state, info = env.reset(seed=42)\n",
    "\n",
    "\n",
    "\n",
    "# use tqdm to get a progress bar for training\n",
    "for steps in tqdm(range(n_steps)):\n",
    "\n",
    "    # reset environment if truncated or terminated\n",
    "    if is_truncated == True or is_terminated == True:\n",
    "        states, info = env.reset(seed=42)\n",
    "        is_truncated = False\n",
    "        is_terminated = False\n",
    "        ep_counter += 1\n",
    "        steps_episodes.append(steps)\n",
    "        episode_returns.append(ep_reward)\n",
    "        ep_reward = 0\n",
    "\n",
    "        \n",
    "\n",
    "\n",
    "    # reset lists that collect experiences of a n_steps_per_update\n",
    "    n_value_preds = torch.zeros(n_steps_per_update, n_envs, device=device)\n",
    "    n_action_log_probs = torch.zeros(n_steps_per_update, n_envs, device=device)\n",
    "    # don't take mask and reward gradient\n",
    "    masks = torch.ones(n_steps_per_update, n_envs, device=device,requires_grad = False)\n",
    "    n_rewards = torch.zeros(n_steps_per_update, n_envs, device=device,requires_grad = False)\n",
    "\n",
    "    # play n_steps_per_update to collect data\n",
    "    for step in range(n_steps_per_update):\n",
    "        # select an action A_{t} using S_{t} as input for the agent, get actions and values Vt\n",
    "        actions, action_log_probs, V_t, entropy = agent.select_action(states, bool_greedy=False)\n",
    "\n",
    "        # ensure no grad is taken in the step\n",
    "        with torch.no_grad():\n",
    "            # perform the action A_{t} in the environment to get S_{t+1} and R_{t+1}\n",
    "            states, reward, is_terminated, is_truncated, infos = env.step(\n",
    "                actions.cpu().numpy()\n",
    "            )\n",
    "            ep_reward += reward # increase episode return\n",
    "            mask = not is_terminated # define mask for bootstrapping\n",
    "\n",
    "        # log the value, reward and action log prob of the last step\n",
    "        n_value_preds[step] = torch.squeeze(V_t)\n",
    "        n_rewards[step] = torch.tensor(reward, device=device)\n",
    "        n_action_log_probs[step] = action_log_probs\n",
    "\n",
    "        # for each env the mask is 1 if the episode is ongoing and 0 if it is terminated (not by truncation!)\n",
    "        masks[step] = torch.tensor(mask) # allows for correct bootstrapping\n",
    "        #TODO : test for n_steps\n",
    "        # stop the n_steps collection if episode is finished\n",
    "        if is_terminated or is_truncated :\n",
    "            break\n",
    "\n",
    "    states_tensor = torch.tensor(states, device=device) # Transform the last state reached (S_t+n) to a tensor\n",
    "\n",
    "    # calculate the losses for actor and critic\n",
    "    critic_loss, actor_loss = agent.get_losses(\n",
    "        n_rewards,\n",
    "        n_action_log_probs,\n",
    "        n_value_preds,\n",
    "        entropy,\n",
    "        masks,\n",
    "        gamma,\n",
    "        states_tensor,\n",
    "    )\n",
    "\n",
    "    # update the actor and critic networks\n",
    "    agent.update_parameters(critic_loss, actor_loss)\n",
    "\n",
    "    # log the losses and entropy\n",
    "    critic_losses.append(critic_loss.detach().cpu().numpy())\n",
    "    actor_losses.append(actor_loss.detach().cpu().numpy())\n",
    "    entropies.append(entropy.detach().mean().cpu().numpy())\n",
    "\n",
    "\n",
    "\n"
   ]
  },
  {
   "cell_type": "code",
   "execution_count": 5,
   "metadata": {},
   "outputs": [
    {
     "name": "stdout",
     "output_type": "stream",
     "text": [
      "[14, 44, 66, 85, 96, 106, 118, 130, 150, 179, 198, 212, 227, 239, 256, 269, 304, 323, 345, 363, 375, 390, 405, 444, 455, 471, 493, 512, 522, 530, 552, 564, 590, 608, 621, 637, 667, 678, 689, 702, 728, 745, 777, 822, 846, 874, 888, 913, 950, 964, 979, 1016, 1031, 1050, 1063, 1087, 1100, 1119, 1133, 1190, 1230, 1243, 1270, 1289, 1303, 1326, 1344, 1360, 1384, 1403, 1420, 1457, 1469, 1549, 1577, 1597, 1645, 1669, 1718, 1751, 1774, 1797, 1829, 1843, 1880, 1896, 1921, 1936, 1962, 2005, 2056, 2084, 2126, 2198, 2230, 2278, 2351, 2374, 2392, 2422, 2476, 2498, 2512, 2531, 2554, 2578, 2588, 2619, 2637, 2666, 2679, 2709, 2736, 2762, 2788, 2817, 2844, 2869, 2898, 2919, 2959, 2988, 3017, 3057, 3096, 3119, 3169, 3290, 3332, 3358, 3385, 3422, 3442, 3466, 3480, 3537, 3599, 3615, 3641, 3696, 3752, 3769, 3823, 3852, 3872, 3957, 4016, 4059, 4085, 4216, 4263, 4294, 4316, 4334, 4396, 4421, 4479, 4491, 4511, 4563, 4622, 4719, 4774, 4831, 4869, 4886, 4920, 4952, 4985, 5014, 5065, 5120, 5176, 5240, 5311, 5444, 5516, 5551, 5585, 5620, 5660, 5705, 5748, 5786, 5812, 5862, 5909, 5978, 6009, 6064, 6103, 6142, 6174, 6249, 6286, 6315, 6354, 6406, 6471, 6546, 6597, 6624, 6714, 6766, 6795, 6854, 6921, 6966, 7027, 7084, 7124, 7234, 7270, 7314, 7343, 7375, 7418, 7481, 7509, 7588, 7616, 7670, 7749, 7788, 7807, 7838, 7868, 7898, 7969, 7986, 8043, 8095, 8160, 8218, 8273, 8300, 8389, 8414, 8478, 8538, 8602, 8628, 8853, 8909, 8946, 9051, 9115, 9180, 9211, 9270, 9309, 9362, 9417, 9462, 9507, 9592, 9666, 9751, 9795, 9856, 9931, 10008, 10062, 10105, 10152, 10198, 10252, 10278, 10313, 10386, 10443, 10507, 10557, 10606, 10633, 10742, 10884, 10927, 11083, 11141, 11170, 11225, 11259, 11334, 11372, 11456, 11528, 11631, 11688, 11830, 11967, 12070, 12143, 12251, 12289, 12326, 12447, 12554, 12654, 12710, 12747, 12779, 12856, 12957, 12993, 13138, 13218, 13307, 13384, 13534, 13606, 13702, 13831, 13883, 14070, 14192, 14273, 14319, 14546, 14649, 14695, 14765, 14792, 14820, 14964, 15058, 15211, 15337, 15420, 15555, 15717, 15784, 16045, 16167, 16218, 16290, 16354, 16471, 16731, 16848, 16945, 17069, 17188, 17274, 17435, 17498, 17586, 17619, 17670, 17746, 18011, 18192, 18462, 18544, 18691, 18850, 19002, 19049, 19144, 19179, 19288, 19370, 19469, 19588, 19742, 19893, 20101, 20190, 20319, 20442, 20591, 20635, 20746, 20893, 20976, 21024, 21209, 21314, 21412, 21591, 21694, 21746, 21880, 21992, 22036, 22213, 22359, 22509, 22682, 22845, 23008, 23160, 23325, 23549, 23671, 23807, 23981, 24234, 24508, 24596, 24661, 24784, 24963, 25030, 25166, 25245, 25350, 25431, 25741, 25908, 25953, 26126, 26190, 26586, 26761, 26871, 26889, 27154, 27243, 27345, 27565, 27648, 27951, 28155, 28331, 28582, 28751, 28941, 29091, 29310, 29589, 29750, 30473, 30694, 30820, 31020, 31229, 31392, 31601, 31828, 32057, 32233, 32433, 32953, 33297, 33601, 33883, 34170, 34415, 34616, 34831, 34919, 35122, 35399, 35612, 35799, 36594, 36927, 37231, 37416, 37469, 37675, 37878, 38224, 38394, 38814, 39024, 39198, 39491, 39745, 40071, 40374, 40732, 40936, 41293, 41633, 41927, 42254, 42728, 43045, 43823, 44152, 44524, 44905, 45236, 45439, 46021, 46391, 46634, 47003, 47334, 47568, 47991, 48317, 49281, 49659, 49880, 49997]\n",
      "truncated [30250, 32933, 36299, 43545, 45939, 48817]\n",
      "[179, 227, 256, 269, 304, 323, 345, 363, 390, 405, 444, 493, 512, 590, 608, 621, 667, 678, 689, 702, 728, 745, 777, 822, 846, 874, 913, 950, 964, 979, 1016, 1031, 1050, 1063, 1119, 1133, 1190, 1230, 1243, 1270, 1289, 1303, 1326, 1360, 1384, 1403, 1420, 1457, 1469, 1549, 1577, 1597, 1645, 1669, 1718, 1751, 1774, 1797, 1829, 1843, 1880, 1896, 1921, 1936, 1962, 2005, 2056, 2084, 2126, 2198, 2230, 2278, 2351, 2374, 2392, 2422, 2476, 2498, 2512, 2531, 2554, 2578, 2588, 2637, 2666, 2679, 2709, 2736, 2762, 2788, 2817, 2844, 2869, 2898, 2919, 2959, 2988, 3017, 3057, 3096, 3119, 3169, 3290, 3332, 3358, 3385, 3422, 3442, 3466, 3480, 3537, 3615, 3641, 3696, 3752, 3769, 3823, 3852, 3872, 3957, 4016, 4059, 4085, 4216, 4263, 4294, 4334, 4396, 4421, 4479, 4511, 4563, 4719, 4774, 4831, 4869, 4886, 4920, 4985, 5014, 5065, 5120, 5176, 5240, 5444, 5516, 5551, 5585, 5620, 5748, 5786, 5812, 5978, 6009, 6064, 6174, 6249, 6315, 6354, 6406, 6471, 6624, 6714, 6795, 6921, 6966, 7027, 7270, 7418, 7481, 7588, 7616, 7807, 7838, 7868, 7898, 7969, 8160, 8300, 8389, 8602, 8628, 8853, 8909, 9051, 9115, 9172, 9194, 9309, 9417, 9666, 9795, 9856, 10008, 10062, 10152, 10198, 10290, 10507, 10742, 10884, 10927, 11083, 11688, 11830, 11967, 12070, 12143, 12251, 12287, 12289, 12314, 12316, 12342, 12346, 12447, 12554, 12654, 12686, 12689, 12710, 12747, 12779, 12856, 12957, 12993, 13138, 13218, 13307, 13384, 13534, 13602, 13603, 13606, 13702, 13831, 14070, 14192, 14273, 14319, 14546, 14649, 14812, 14843, 14844, 14964, 14972, 15058, 15211, 15337, 15420, 15555, 15717, 15784, 16045, 16167, 16218, 16290, 16354, 16471, 16576, 16731, 16848, 16945, 17069, 17165, 17274, 17435, 17498, 17586, 17619, 17653, 17670, 17746, 18007, 18009, 18011, 18192, 18462, 18544, 18691, 18850, 19002, 19049, 19144, 19179, 19288, 19359, 19370, 19469, 19588, 19731, 19742, 19884, 19888, 19891, 19893, 20013, 20015, 20094, 20096, 20101, 20183, 20185, 20190, 20319, 20442, 20495, 20591, 20635, 20704, 20746, 20893, 20976, 21024, 21209, 21314, 21352, 21412, 21591, 21694, 21880, 21992, 22036, 22112, 22213, 22359, 22509, 22682, 22733, 22845, 22875, 23008, 23160, 23325, 23455, 23458, 23549, 23589, 23671, 23690, 23807, 23981, 24234, 24508, 24593, 24596, 24661, 24721, 24723, 24736, 24738, 24784, 24963, 25030, 25166, 25245, 25350, 25377, 25431, 25741, 25908, 25953, 26126, 26190, 26346, 26348, 26356, 26586, 26761, 26871, 26889, 27154, 27175, 27243, 27345, 27486, 27489, 27565, 27648, 27787, 27951, 28155, 28331, 28751, 28941, 29090, 29091, 29589, 29748, 29750, 29821, 29850, 30473, 30694, 30820, 30891, 30892, 31020, 31150, 31229, 31392, 31601, 31795, 31798, 31828, 32057, 32233, 32274, 32277, 32281, 32426, 32430, 32431, 32433, 32479, 32482, 32483, 32488, 32489, 32491, 32715, 32733, 32953, 33291, 33292, 33297, 33366, 33369, 33374, 33375, 33601, 33695, 33883, 34170, 34261, 34415, 34616, 34831, 34919, 35122, 35205, 35399, 35799, 36594, 36736, 36746, 36927, 37043, 37053, 37058, 37066, 37067, 37231, 37416, 37469, 37675, 37878, 38224, 38394, 38814, 39024, 39197, 39198, 39491, 39745, 40071, 40374, 40732, 40936, 41293, 41633, 41927, 42254, 42728, 43045, 43823, 44140, 44152, 44449, 44524, 44701, 44905, 45236, 45439, 46021, 46204, 46208, 46391, 46634, 47334, 47568, 47991, 48317, 49281, 49659, 49880, 49997]\n",
      "9.437344\n"
     ]
    },
    {
     "data": {
      "image/png": "[encoded data removed]",
      "text/plain": [
       "<Figure size 640x480 with 1 Axes>"
      ]
     },
     "metadata": {},
     "output_type": "display_data"
    }
   ],
   "source": [
    "\n",
    "#plot evaluation\n",
    "print(log_terminated_steps)\n",
    "print(\"truncated\",log_truncated_steps)\n",
    "longueur = len(log_terminated_steps)\n",
    "indexes = np.argsort(critic_losses)[-longueur:]\n",
    "print(sorted(indexes))\n",
    "print(np.mean(critic_losses))\n",
    "\n",
    "\n",
    "#plt.plot(np.log(critic_losses))\n",
    "plt.plot(critic_losses)\n",
    "# plt.plot(evaluation_returns)\n",
    "# Example list\n",
    "\n",
    "\n",
    "# Get the indexes of the 10 largest values\n",
    "\n",
    "\n",
    "#print(indexes)\n",
    "# plt.title(\"Evaluation Returns\")\n",
    "# plt.xlabel(\"Evaluation number\")\n",
    "# plt.ylabel(\"Average return\")\n",
    "\n",
    "\n",
    "\n",
    "\n",
    "plt.show()\n"
   ]
  },
  {
   "cell_type": "markdown",
   "metadata": {},
   "source": [
    "## saving/loading weights"
   ]
  },
  {
   "cell_type": "code",
   "execution_count": 9,
   "metadata": {},
   "outputs": [],
   "source": [
    "save_weights = True\n",
    "load_weights = False\n",
    "\n",
    "actor_weights_path = \"weights/actor_weightss.h5\"\n",
    "critic_weights_path = \"weights/critic_weightss.h5\"\n",
    "\n",
    "if not os.path.exists(\"weights\"):\n",
    "    os.mkdir(\"weights\")\n",
    "\n",
    "\"\"\" save network weights \"\"\"\n",
    "if save_weights:\n",
    "    torch.save(agent.actor.state_dict(), actor_weights_path)\n",
    "    torch.save(agent.critic.state_dict(), critic_weights_path)\n",
    "\n",
    "\n",
    "\"\"\" load network weights \"\"\"\n",
    "if load_weights:\n",
    "    agent = A2C(obs_shape, action_shape, device, critic_lr, actor_lr, 1)\n",
    "\n",
    "    agent.actor.load_state_dict(torch.load(actor_weights_path))\n",
    "    agent.critic.load_state_dict(torch.load(critic_weights_path))\n",
    "    agent.actor.eval()\n",
    "    agent.critic.eval()"
   ]
  },
  {
   "cell_type": "markdown",
   "metadata": {},
   "source": [
    "## SHOWCASE"
   ]
  },
  {
   "cell_type": "code",
   "execution_count": 10,
   "metadata": {},
   "outputs": [
    {
     "name": "stdout",
     "output_type": "stream",
     "text": [
      "starting episode 0...\n"
     ]
    },
    {
     "name": "stderr",
     "output_type": "stream",
     "text": [
      "/opt/anaconda3/envs/rl_project/lib/python3.9/site-packages/torch/nn/modules/module.py:1511: UserWarning: Implicit dimension choice for softmax has been deprecated. Change the call to include dim=X as an argument.\n",
      "  return self._call_impl(*args, **kwargs)\n"
     ]
    },
    {
     "name": "stdout",
     "output_type": "stream",
     "text": [
      "starting episode 1...\n",
      "starting episode 2...\n"
     ]
    },
    {
     "ename": "",
     "evalue": "",
     "output_type": "error",
     "traceback": [
      "\u001b[1;31mThe Kernel crashed while executing code in the current cell or a previous cell. \n",
      "\u001b[1;31mPlease review the code in the cell(s) to identify a possible cause of the failure. \n",
      "\u001b[1;31mClick <a href='https://aka.ms/vscodeJupyterKernelCrash'>here</a> for more info. \n",
      "\u001b[1;31mView Jupyter <a href='command:jupyter.viewOutput'>log</a> for further details."
     ]
    }
   ],
   "source": [
    "n_showcase_episodes = 3\n",
    "\n",
    "for episode in range(n_showcase_episodes):\n",
    "    print(f\"starting episode {episode}...\")\n",
    "\n",
    "    # create a new sample environment to get new random parameters\n",
    "    env = gym.make(\"CartPole-v1\", render_mode=\"human\", max_episode_steps=500)\n",
    "\n",
    "    # get an initial state\n",
    "    state, info = env.reset()\n",
    "\n",
    "    # play one episode\n",
    "    done = False\n",
    "    while not done:\n",
    "        # select an action A_{t} using S_{t} as input for the agent\n",
    "        with torch.no_grad():\n",
    "            action, _, _, _ = agent.select_action(state[None, :], bool_greedy=True)\n",
    "\n",
    "        # perform the action A_{t} in the environment to get S_{t+1} and R_{t+1}\n",
    "        state, reward, terminated, truncated, info = env.step(action.item())\n",
    "\n",
    "        # update if the environment is done\n",
    "        done = terminated or truncated\n",
    "\n",
    "env.close()"
   ]
  },
  {
   "cell_type": "markdown",
   "metadata": {},
   "source": [
    "### 1.2.1 Printing informations"
   ]
  },
  {
   "cell_type": "code",
   "execution_count": null,
   "metadata": {},
   "outputs": [
    {
     "ename": "NameError",
     "evalue": "name 'env' is not defined",
     "output_type": "error",
     "traceback": [
      "\u001b[0;31m---------------------------------------------------------------------------\u001b[0m",
      "\u001b[0;31mNameError\u001b[0m                                 Traceback (most recent call last)",
      "Cell \u001b[0;32mIn[5], line 1\u001b[0m\n\u001b[0;32m----> 1\u001b[0m \u001b[38;5;28mprint\u001b[39m(\u001b[38;5;124mf\u001b[39m\u001b[38;5;124m\"\u001b[39m\u001b[38;5;124mAction space: \u001b[39m\u001b[38;5;132;01m{\u001b[39;00menv\u001b[38;5;241m.\u001b[39maction_space\u001b[38;5;132;01m}\u001b[39;00m\u001b[38;5;124m\"\u001b[39m)\n\u001b[1;32m      2\u001b[0m \u001b[38;5;28mprint\u001b[39m(\u001b[38;5;124mf\u001b[39m\u001b[38;5;124m\"\u001b[39m\u001b[38;5;124mObservation space: \u001b[39m\u001b[38;5;132;01m{\u001b[39;00menv\u001b[38;5;241m.\u001b[39mobservation_space\u001b[38;5;132;01m}\u001b[39;00m\u001b[38;5;124m\"\u001b[39m)\n\u001b[1;32m      3\u001b[0m \u001b[38;5;28mprint\u001b[39m(\u001b[38;5;124m\"\u001b[39m\u001b[38;5;124m------\u001b[39m\u001b[38;5;124m\"\u001b[39m)\n",
      "\u001b[0;31mNameError\u001b[0m: name 'env' is not defined"
     ]
    }
   ],
   "source": [
    "print(f\"Action space: {env.action_space}\")\n",
    "print(f\"Observation space: {env.observation_space}\")\n",
    "print(\"------\")\n",
    "print(f\"Number of actions available: {env.action_space.n}\")\n",
    "print(f\"Observation shape: {env.observation_space.shape}\")"
   ]
  },
  {
   "cell_type": "markdown",
   "metadata": {},
   "source": [
    "## 1.3 Define the A2C Class\n"
   ]
  },
  {
   "cell_type": "markdown",
   "metadata": {},
   "source": [
    "# 2. Running the Agents (Discrete Case)\n"
   ]
  },
  {
   "cell_type": "markdown",
   "metadata": {},
   "source": [
    "A2C.py and then we merge\n"
   ]
  },
  {
   "cell_type": "code",
   "execution_count": null,
   "metadata": {},
   "outputs": [],
   "source": [
    "from A2C import *"
   ]
  },
  {
   "cell_type": "markdown",
   "metadata": {},
   "source": [
    "## 1.4 Training function\n",
    "\n"
   ]
  },
  {
   "cell_type": "markdown",
   "metadata": {},
   "source": [
    "train.py and then we merge\n"
   ]
  },
  {
   "cell_type": "code",
   "execution_count": null,
   "metadata": {},
   "outputs": [],
   "source": [
    "from training import *"
   ]
  },
  {
   "cell_type": "markdown",
   "metadata": {},
   "source": [
    "## 1.5 Evaluation functions"
   ]
  },
  {
   "cell_type": "markdown",
   "metadata": {},
   "source": []
  },
  {
   "cell_type": "markdown",
   "metadata": {},
   "source": [
    "# 2. Running the Agents (Discrete Case)\n"
   ]
  },
  {
   "cell_type": "markdown",
   "metadata": {},
   "source": []
  },
  {
   "cell_type": "markdown",
   "metadata": {},
   "source": [
    "## 2.1 Agent 1"
   ]
  },
  {
   "cell_type": "markdown",
   "metadata": {},
   "source": []
  },
  {
   "cell_type": "markdown",
   "metadata": {},
   "source": [
    "# 3. Running the Agents (Continuous Case)\n"
   ]
  },
  {
   "cell_type": "markdown",
   "metadata": {},
   "source": []
  }
 ],
 "metadata": {
  "kernelspec": {
   "display_name": "Python 3.12.0 64-bit",
   "language": "python",
   "name": "python3"
  },
  "language_info": {
   "codemirror_mode": {
    "name": "ipython",
    "version": 3
   },
   "file_extension": ".py",
   "mimetype": "text/x-python",
   "name": "python",
   "nbconvert_exporter": "python",
   "pygments_lexer": "ipython3",
   "version": "3.12.0"
  },
  "vscode": {
   "interpreter": {
    "hash": "682406ea7d4048a1b69a8b343d812f112c46e0c88f74c82cf5d88525c921faf9"
   }
  }
 },
 "nbformat": 4,
 "nbformat_minor": 2
}
