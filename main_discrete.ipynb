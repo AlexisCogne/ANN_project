{
 "cells": [
  {
   "cell_type": "markdown",
   "metadata": {},
   "source": [
    "# 1. SETUP"
   ]
  },
  {
   "cell_type": "markdown",
   "metadata": {},
   "source": [
    "## 1.1 Imports\n"
   ]
  },
  {
   "cell_type": "code",
   "execution_count": 14,
   "metadata": {},
   "outputs": [
    {
     "name": "stdout",
     "output_type": "stream",
     "text": [
      "The autoreload extension is already loaded. To reload it, use:\n",
      "  %reload_ext autoreload\n"
     ]
    }
   ],
   "source": [
    "import gymnasium as gym\n",
    "import torch\n",
    "import torch.nn as nn\n",
    "import torch.nn.functional as F\n",
    "import numpy as np\n",
    "import matplotlib.pyplot as plt\n",
    "from A2C_discrete import A2C\n",
    "from tqdm import tqdm\n",
    "import os\n",
    "%load_ext autoreload\n",
    "%autoreload 2"
   ]
  },
  {
   "cell_type": "markdown",
   "metadata": {},
   "source": [
    "## 1.2 PARAMETERS SETUP\n"
   ]
  },
  {
   "cell_type": "code",
   "execution_count": 15,
   "metadata": {},
   "outputs": [],
   "source": [
    "# HYPERPARAMETERS\n",
    "# environment hyperparams\n",
    "n_steps = 200000\n",
    "n_envs = 1\n",
    "n_steps_per_update = 1\n",
    "n_updates = n_steps // (n_steps_per_update*n_envs)\n",
    "evaluation_interval = 10000 # evaluate the agent every 20k steps\n",
    "n_eval_runs = 10 # how many evaluation runs to do each 20k steps \n",
    "\n",
    "# agent hyperparams\n",
    "gamma = 0.99  # discount factor\n",
    "ent_coef = 0.01  # coefficient for the entropy bonus (to encourage exploration)\n",
    "actor_lr = 1e-5\n",
    "critic_lr = 1e-3\n",
    "stochasticity_bool = True\n",
    "stochastic_reward_probability = 0.9\n",
    "# Note: the actor has a slower learning rate so that the value targets become\n",
    "# more stationary and are theirfore easier to estimate for the critic\n",
    "\n",
    "# SEED\n",
    "def set_seed(seed):\n",
    "    torch.manual_seed(seed) # pytorch random seed\n",
    "    np.random.seed(seed) # numpy random seed\n",
    "# Set a seed value\n",
    "seed_value = 50\n",
    "set_seed(seed_value)\n",
    "\n",
    "# ENVIRONMENT\n",
    "env = gym.make(\"CartPole-v1\")\n",
    "env_eval = gym.make(\"CartPole-v1\")\n",
    "obs_shape = env.observation_space.shape[0]\n",
    "action_shape = env.action_space.n\n",
    "\n",
    "# DEVICE\n",
    "use_cuda = False\n",
    "if use_cuda:\n",
    "    device = torch.device(\"cuda\" if torch.cuda.is_available() else \"cpu\")\n",
    "else:\n",
    "    device = torch.device(\"cpu\")\n",
    "\n",
    "\n",
    "# AGENT\n",
    "agent = A2C(obs_shape, action_shape, device, critic_lr, actor_lr, n_envs)"
   ]
  },
  {
   "cell_type": "markdown",
   "metadata": {},
   "source": [
    "# 2. AGENT TRAINING"
   ]
  },
  {
   "cell_type": "code",
   "execution_count": 16,
   "metadata": {},
   "outputs": [
    {
     "name": "stderr",
     "output_type": "stream",
     "text": [
      "  0%|          | 0/200001 [00:00<?, ?it/s]/opt/anaconda3/envs/rl_project/lib/python3.9/site-packages/torch/nn/modules/module.py:1511: UserWarning: Implicit dimension choice for softmax has been deprecated. Change the call to include dim=X as an argument.\n",
      "  return self._call_impl(*args, **kwargs)\n",
      "  5%|▍         | 9992/200001 [00:40<12:36, 251.28it/s]"
     ]
    },
    {
     "name": "stdout",
     "output_type": "stream",
     "text": [
      "EVALUATION\n"
     ]
    },
    {
     "name": "stderr",
     "output_type": "stream",
     "text": [
      "  5%|▌         | 10037/200001 [00:41<40:25, 78.33it/s]"
     ]
    },
    {
     "name": "stdout",
     "output_type": "stream",
     "text": [
      "[205.0, 138.0, 138.0, 122.0, 137.0, 188.0, 304.0, 167.0, 296.0, 307.0]\n"
     ]
    },
    {
     "name": "stderr",
     "output_type": "stream",
     "text": [
      " 10%|▉         | 19990/200001 [01:27<11:35, 258.93it/s]"
     ]
    },
    {
     "name": "stdout",
     "output_type": "stream",
     "text": [
      "EVALUATION\n"
     ]
    },
    {
     "name": "stderr",
     "output_type": "stream",
     "text": [
      " 10%|█         | 20044/200001 [01:29<35:26, 84.64it/s] "
     ]
    },
    {
     "name": "stdout",
     "output_type": "stream",
     "text": [
      "[225.0, 192.0, 139.0, 215.0, 193.0, 157.0, 323.0, 148.0, 155.0, 443.0]\n"
     ]
    },
    {
     "name": "stderr",
     "output_type": "stream",
     "text": [
      " 15%|█▍        | 29990/200001 [02:16<13:00, 217.91it/s]"
     ]
    },
    {
     "name": "stdout",
     "output_type": "stream",
     "text": [
      "EVALUATION\n"
     ]
    },
    {
     "name": "stderr",
     "output_type": "stream",
     "text": [
      " 15%|█▌        | 30039/200001 [02:17<50:49, 55.73it/s]  "
     ]
    },
    {
     "name": "stdout",
     "output_type": "stream",
     "text": [
      "[475.0, 208.0, 222.0, 263.0, 242.0, 275.0, 500.0, 251.0, 500.0, 500.0]\n"
     ]
    },
    {
     "name": "stderr",
     "output_type": "stream",
     "text": [
      " 20%|█▉        | 39997/200001 [03:02<08:57, 297.85it/s]"
     ]
    },
    {
     "name": "stdout",
     "output_type": "stream",
     "text": [
      "EVALUATION\n"
     ]
    },
    {
     "name": "stderr",
     "output_type": "stream",
     "text": [
      " 20%|██        | 40027/200001 [03:03<49:29, 53.88it/s] "
     ]
    },
    {
     "name": "stdout",
     "output_type": "stream",
     "text": [
      "[455.0, 500.0, 270.0, 373.0, 394.0, 318.0, 360.0, 266.0, 276.0, 500.0]\n"
     ]
    },
    {
     "name": "stderr",
     "output_type": "stream",
     "text": [
      " 25%|██▍       | 49981/200001 [03:38<08:08, 307.37it/s]"
     ]
    },
    {
     "name": "stdout",
     "output_type": "stream",
     "text": [
      "EVALUATION\n"
     ]
    },
    {
     "name": "stderr",
     "output_type": "stream",
     "text": [
      " 25%|██▌       | 50040/200001 [03:40<42:12, 59.22it/s] "
     ]
    },
    {
     "name": "stdout",
     "output_type": "stream",
     "text": [
      "[500.0, 500.0, 366.0, 500.0, 500.0, 500.0, 500.0, 500.0, 500.0, 500.0]\n"
     ]
    },
    {
     "name": "stderr",
     "output_type": "stream",
     "text": [
      " 30%|██▉       | 59971/200001 [04:19<07:34, 308.38it/s]"
     ]
    },
    {
     "name": "stdout",
     "output_type": "stream",
     "text": [
      "EVALUATION\n"
     ]
    },
    {
     "name": "stderr",
     "output_type": "stream",
     "text": [
      " 30%|███       | 60033/200001 [04:21<35:33, 65.59it/s] "
     ]
    },
    {
     "name": "stdout",
     "output_type": "stream",
     "text": [
      "[500.0, 500.0, 324.0, 500.0, 500.0, 388.0, 458.0, 306.0, 397.0, 500.0]\n"
     ]
    },
    {
     "name": "stderr",
     "output_type": "stream",
     "text": [
      " 35%|███▍      | 69981/200001 [04:55<09:24, 230.34it/s]"
     ]
    },
    {
     "name": "stdout",
     "output_type": "stream",
     "text": [
      "EVALUATION\n"
     ]
    },
    {
     "name": "stderr",
     "output_type": "stream",
     "text": [
      " 35%|███▌      | 70027/200001 [04:58<55:25, 39.09it/s]  "
     ]
    },
    {
     "name": "stdout",
     "output_type": "stream",
     "text": [
      "[500.0, 500.0, 500.0, 500.0, 500.0, 500.0, 500.0, 500.0, 500.0, 500.0]\n"
     ]
    },
    {
     "name": "stderr",
     "output_type": "stream",
     "text": [
      " 40%|███▉      | 79988/200001 [05:39<08:15, 242.13it/s]"
     ]
    },
    {
     "name": "stdout",
     "output_type": "stream",
     "text": [
      "EVALUATION\n"
     ]
    },
    {
     "name": "stderr",
     "output_type": "stream",
     "text": [
      " 40%|████      | 80035/200001 [05:41<44:26, 45.00it/s] "
     ]
    },
    {
     "name": "stdout",
     "output_type": "stream",
     "text": [
      "[406.0, 347.0, 500.0, 500.0, 391.0, 500.0, 419.0, 500.0, 435.0, 500.0]\n"
     ]
    },
    {
     "name": "stderr",
     "output_type": "stream",
     "text": [
      " 45%|████▍     | 89981/200001 [06:21<07:01, 261.26it/s]"
     ]
    },
    {
     "name": "stdout",
     "output_type": "stream",
     "text": [
      "EVALUATION\n"
     ]
    },
    {
     "name": "stderr",
     "output_type": "stream",
     "text": [
      " 45%|████▌     | 90031/200001 [06:24<40:59, 44.71it/s] "
     ]
    },
    {
     "name": "stdout",
     "output_type": "stream",
     "text": [
      "[500.0, 500.0, 500.0, 500.0, 500.0, 500.0, 500.0, 500.0, 500.0, 500.0]\n"
     ]
    },
    {
     "name": "stderr",
     "output_type": "stream",
     "text": [
      " 50%|████▉     | 99989/200001 [07:03<06:26, 258.56it/s]"
     ]
    },
    {
     "name": "stdout",
     "output_type": "stream",
     "text": [
      "EVALUATION\n"
     ]
    },
    {
     "name": "stderr",
     "output_type": "stream",
     "text": [
      " 50%|█████     | 100035/200001 [07:06<41:24, 40.24it/s]"
     ]
    },
    {
     "name": "stdout",
     "output_type": "stream",
     "text": [
      "[500.0, 500.0, 500.0, 500.0, 417.0, 500.0, 500.0, 500.0, 500.0, 500.0]\n"
     ]
    },
    {
     "name": "stderr",
     "output_type": "stream",
     "text": [
      " 55%|█████▍    | 109994/200001 [07:45<05:53, 254.79it/s]"
     ]
    },
    {
     "name": "stdout",
     "output_type": "stream",
     "text": [
      "EVALUATION\n"
     ]
    },
    {
     "name": "stderr",
     "output_type": "stream",
     "text": [
      " 55%|█████▌    | 110039/200001 [07:49<46:14, 32.43it/s] "
     ]
    },
    {
     "name": "stdout",
     "output_type": "stream",
     "text": [
      "[500.0, 444.0, 500.0, 500.0, 500.0, 500.0, 500.0, 500.0, 500.0, 500.0]\n"
     ]
    },
    {
     "name": "stderr",
     "output_type": "stream",
     "text": [
      " 60%|█████▉    | 119984/200001 [08:29<05:23, 247.24it/s]"
     ]
    },
    {
     "name": "stdout",
     "output_type": "stream",
     "text": [
      "EVALUATION\n"
     ]
    },
    {
     "name": "stderr",
     "output_type": "stream",
     "text": [
      " 60%|██████    | 120030/200001 [08:31<34:03, 39.14it/s] "
     ]
    },
    {
     "name": "stdout",
     "output_type": "stream",
     "text": [
      "[500.0, 500.0, 500.0, 500.0, 500.0, 500.0, 500.0, 500.0, 500.0, 500.0]\n"
     ]
    },
    {
     "name": "stderr",
     "output_type": "stream",
     "text": [
      " 65%|██████▍   | 129985/200001 [09:12<03:52, 300.63it/s]"
     ]
    },
    {
     "name": "stdout",
     "output_type": "stream",
     "text": [
      "EVALUATION\n"
     ]
    },
    {
     "name": "stderr",
     "output_type": "stream",
     "text": [
      " 65%|██████▌   | 130016/200001 [09:15<36:24, 32.04it/s] "
     ]
    },
    {
     "name": "stdout",
     "output_type": "stream",
     "text": [
      "[500.0, 500.0, 500.0, 500.0, 500.0, 500.0, 500.0, 500.0, 500.0, 500.0]\n"
     ]
    },
    {
     "name": "stderr",
     "output_type": "stream",
     "text": [
      " 70%|██████▉   | 139988/200001 [09:57<03:56, 254.19it/s]"
     ]
    },
    {
     "name": "stdout",
     "output_type": "stream",
     "text": [
      "EVALUATION\n"
     ]
    },
    {
     "name": "stderr",
     "output_type": "stream",
     "text": [
      " 70%|███████   | 140045/200001 [09:59<18:47, 53.17it/s] "
     ]
    },
    {
     "name": "stdout",
     "output_type": "stream",
     "text": [
      "[445.0, 500.0, 500.0, 500.0, 500.0, 500.0, 500.0, 500.0, 500.0, 500.0]\n"
     ]
    },
    {
     "name": "stderr",
     "output_type": "stream",
     "text": [
      " 75%|███████▍  | 149985/200001 [10:38<04:28, 186.19it/s]"
     ]
    },
    {
     "name": "stdout",
     "output_type": "stream",
     "text": [
      "EVALUATION\n"
     ]
    },
    {
     "name": "stderr",
     "output_type": "stream",
     "text": [
      " 75%|███████▌  | 150004/200001 [10:41<43:31, 19.15it/s] "
     ]
    },
    {
     "name": "stdout",
     "output_type": "stream",
     "text": [
      "[500.0, 500.0, 500.0, 500.0, 500.0, 500.0, 500.0, 500.0, 500.0, 500.0]\n"
     ]
    },
    {
     "name": "stderr",
     "output_type": "stream",
     "text": [
      " 80%|███████▉  | 159991/200001 [11:25<02:25, 275.88it/s]"
     ]
    },
    {
     "name": "stdout",
     "output_type": "stream",
     "text": [
      "EVALUATION\n"
     ]
    },
    {
     "name": "stderr",
     "output_type": "stream",
     "text": [
      " 80%|████████  | 160046/200001 [11:28<14:26, 46.08it/s] "
     ]
    },
    {
     "name": "stdout",
     "output_type": "stream",
     "text": [
      "[500.0, 419.0, 500.0, 500.0, 500.0, 500.0, 500.0, 500.0, 500.0, 500.0]\n"
     ]
    },
    {
     "name": "stderr",
     "output_type": "stream",
     "text": [
      " 85%|████████▍ | 169976/200001 [12:11<01:58, 254.09it/s]"
     ]
    },
    {
     "name": "stdout",
     "output_type": "stream",
     "text": [
      "EVALUATION\n"
     ]
    },
    {
     "name": "stderr",
     "output_type": "stream",
     "text": [
      " 85%|████████▌ | 170002/200001 [12:13<15:24, 32.44it/s] "
     ]
    },
    {
     "name": "stdout",
     "output_type": "stream",
     "text": [
      "[500.0, 500.0, 500.0, 500.0, 500.0, 500.0, 500.0, 500.0, 500.0, 500.0]\n"
     ]
    },
    {
     "name": "stderr",
     "output_type": "stream",
     "text": [
      " 90%|████████▉ | 179975/200001 [12:53<01:18, 256.29it/s]"
     ]
    },
    {
     "name": "stdout",
     "output_type": "stream",
     "text": [
      "EVALUATION\n"
     ]
    },
    {
     "name": "stderr",
     "output_type": "stream",
     "text": [
      " 90%|█████████ | 180023/200001 [12:56<07:25, 44.83it/s] "
     ]
    },
    {
     "name": "stdout",
     "output_type": "stream",
     "text": [
      "[500.0, 500.0, 414.0, 500.0, 500.0, 500.0, 500.0, 500.0, 500.0, 500.0]\n"
     ]
    },
    {
     "name": "stderr",
     "output_type": "stream",
     "text": [
      " 95%|█████████▍| 189981/200001 [13:36<00:39, 254.57it/s]"
     ]
    },
    {
     "name": "stdout",
     "output_type": "stream",
     "text": [
      "EVALUATION\n"
     ]
    },
    {
     "name": "stderr",
     "output_type": "stream",
     "text": [
      " 95%|█████████▌| 190031/200001 [13:38<03:43, 44.66it/s] "
     ]
    },
    {
     "name": "stdout",
     "output_type": "stream",
     "text": [
      "[455.0, 500.0, 432.0, 500.0, 500.0, 500.0, 500.0, 500.0, 500.0, 500.0]\n"
     ]
    },
    {
     "name": "stderr",
     "output_type": "stream",
     "text": [
      "100%|█████████▉| 199978/200001 [14:18<00:00, 232.84it/s]"
     ]
    },
    {
     "name": "stdout",
     "output_type": "stream",
     "text": [
      "EVALUATION\n"
     ]
    },
    {
     "name": "stderr",
     "output_type": "stream",
     "text": [
      "100%|██████████| 200001/200001 [14:20<00:00, 232.30it/s]"
     ]
    },
    {
     "name": "stdout",
     "output_type": "stream",
     "text": [
      "[500.0, 500.0, 500.0, 500.0, 500.0, 500.0, 500.0, 500.0, 500.0, 500.0]\n"
     ]
    },
    {
     "name": "stderr",
     "output_type": "stream",
     "text": [
      "\n"
     ]
    }
   ],
   "source": [
    "# LOGGED VARIABLES\n",
    "critic_losses = []\n",
    "actor_losses = []\n",
    "entropies = []\n",
    "episode_returns = []\n",
    "steps_episodes = [] # logs the steps taken in each episode\n",
    "evaluation_returns = [] # logs the returns of the agent during evaluation\n",
    "\n",
    "# COUNTERS\n",
    "steps = 0\n",
    "ep_counter = 0\n",
    "ep_reward = 0\n",
    "\n",
    "# VARIABLE INITIALIZATION\n",
    "is_truncated = False\n",
    "is_terminated = False\n",
    "states, info = env.reset(seed=seed_value) #only use the seed when resetting the first time\n",
    "\n",
    "\n",
    "# use tqdm to get a progress bar for training\n",
    "for steps in tqdm(range(n_updates+1)):\n",
    "        \n",
    "\n",
    "    # reset lists that collect experiences of a n_steps_per_update\n",
    "    n_value_preds = torch.zeros(n_steps_per_update, n_envs, device=device)\n",
    "    n_action_log_probs = torch.zeros(n_steps_per_update, n_envs, device=device)\n",
    "    # don't take mask and reward gradient\n",
    "    masks = torch.ones(n_steps_per_update, n_envs, device=device,requires_grad = False)\n",
    "    n_rewards = torch.zeros(n_steps_per_update, n_envs, device=device,requires_grad = False)\n",
    "    end_states = []\n",
    "    end_states_idx = [0]\n",
    "\n",
    "    # play n_steps_per_update to collect data\n",
    "    for step in range(n_steps_per_update):\n",
    "        # select an action A_{t} using S_{t} as input for the agent, get actions and values Vt\n",
    "        actions, action_log_probs, V_t, entropy = agent.select_action(states, bool_greedy=False)\n",
    "\n",
    "        # ensure no grad is taken in the step\n",
    "        with torch.no_grad():\n",
    "            # perform the action A_{t} in the environment to get S_{t+1} and R_{t+1}\n",
    "            states, reward, is_terminated, is_truncated, infos = env.step(\n",
    "                actions.cpu().numpy()\n",
    "            )\n",
    "        if stochasticity_bool:\n",
    "            # introduce stochasticity in the reward\n",
    "            if np.random.rand() < stochastic_reward_probability:\n",
    "                reward = 0\n",
    "\n",
    "        ep_reward += reward # increase episode return\n",
    "        mask = not is_terminated # define mask for bootstrapping\n",
    "\n",
    "        # log the value, reward and action log prob of the last step\n",
    "        n_value_preds[step] = torch.squeeze(V_t)\n",
    "        n_rewards[step] = torch.tensor(reward, device=device)\n",
    "        n_action_log_probs[step] = action_log_probs\n",
    "\n",
    "        # for each env the mask is 1 if the episode is ongoing and 0 if it is terminated (not by truncation!)\n",
    "        masks[step] = torch.tensor(mask) # allows for correct bootstrapping\n",
    "        \n",
    "    # reset environment if truncated or terminated\n",
    "    if is_terminated or is_truncated:\n",
    "        states_tensor = torch.tensor(states, device=device) # Transform the last state reached (S_t+n) to a tensor\n",
    "        end_states.append(states_tensor)\n",
    "        end_states_idx.append(step)\n",
    "        states, info = env.reset() # do not use the seed when resetting again\n",
    "        ep_counter += 1\n",
    "        steps_episodes.append(steps)\n",
    "        episode_returns.append(ep_reward)\n",
    "        ep_reward = 0\n",
    "\n",
    "    \n",
    "    # if statement to make sure we don't append the end state twice\n",
    "    if not is_terminated and not is_truncated:\n",
    "        states_tensor = torch.tensor(states, device=device) # Transform the last state reached (S_t+n) to a tensor\n",
    "        end_states.append(states_tensor)\n",
    "        end_states_idx.append(step)\n",
    "    # calculate the losses for actor and critic\n",
    "    critic_loss, actor_loss = agent.get_losses(\n",
    "        n_rewards,\n",
    "        n_action_log_probs,\n",
    "        n_value_preds,\n",
    "        entropy,\n",
    "        masks,\n",
    "        gamma,\n",
    "        end_states,\n",
    "        end_states_idx\n",
    "    )\n",
    "\n",
    "    # update the actor and critic networks\n",
    "    agent.update_parameters(critic_loss, actor_loss)\n",
    "\n",
    "    # log the losses and entropy\n",
    "    critic_losses.append(critic_loss.detach().cpu().numpy())\n",
    "    actor_losses.append(actor_loss.detach().cpu().numpy())\n",
    "    entropies.append(entropy.detach().mean().cpu().numpy())\n",
    "\n",
    "    #After every 20k steps, evaluate the performance of your agent by running it for 10 episodes with a greedy action policy (without noise)\n",
    "    #on a newly initialized environment and plotting the evaluation statistics below.\n",
    "    with torch.no_grad(): # No need to store gradients in the evaluation\n",
    "        if steps % evaluation_interval == 0 and steps != 0:\n",
    "            print(\"EVALUATION\")\n",
    "            # evaluate\n",
    "            returns = []\n",
    "            episode_lengths = []\n",
    "            for i in range(n_eval_runs):\n",
    "                # Only use the seed when resetting at the beginning to ensure the states will follow the same initialization at every evalutaion step\n",
    "                if i == 0:\n",
    "                    state, info = env_eval.reset(seed = seed_value)\n",
    "                else:\n",
    "                    state, info = env_eval.reset()\n",
    "                episode_return = 0\n",
    "                episode_length = 0\n",
    "                while True:\n",
    "                    action, _, _, _ = agent.select_action(state,bool_greedy=True)\n",
    "                    state, reward, terminated, truncated, info = env_eval.step(action.cpu().numpy())\n",
    "                    episode_return += reward\n",
    "                    episode_length += 1\n",
    "                    if terminated or truncated:\n",
    "                        break\n",
    "                returns.append(episode_return)\n",
    "                episode_lengths.append(episode_length)  \n",
    "            print(returns)\n",
    "            evaluation_returns.append(np.mean(returns))\n",
    "\n",
    "\n",
    "\n"
   ]
  },
  {
   "cell_type": "markdown",
   "metadata": {},
   "source": [
    "# 3. RESULTS"
   ]
  },
  {
   "cell_type": "markdown",
   "metadata": {},
   "source": [
    "## 3.1 PLOTTING"
   ]
  },
  {
   "cell_type": "code",
   "execution_count": 17,
   "metadata": {},
   "outputs": [
    {
     "data": {
      "image/png": "[encoded data removed]",
      "text/plain": [
       "<Figure size 1200x500 with 4 Axes>"
      ]
     },
     "metadata": {},
     "output_type": "display_data"
    }
   ],
   "source": [
    "rolling_length = 30\n",
    "\n",
    "fig, axs = plt.subplots(nrows=2, ncols=2, figsize=(12, 5))\n",
    "#set title of the plot\n",
    "fig.suptitle(f\"{n_steps_per_update} STEP PER UPDATE, {n_steps} STEPS, STOCHASTIC: {stochasticity_bool}, SEED: {seed_value}\")\n",
    "critic_losses = np.array(critic_losses)\n",
    "capped_loss = critic_losses[critic_losses < 1]\n",
    "critic_ma = (\n",
    "    np.convolve(np.array(critic_losses), np.ones(rolling_length), mode=\"valid\")\n",
    "    / rolling_length\n",
    ")\n",
    "axs[0, 0].plot(critic_ma)\n",
    "axs[0, 0].set_title('Critic Loss')\n",
    "axs[0, 0].set_yscale('log')  # Set log scale for the y-axis\n",
    "actor_ma = (\n",
    "    np.convolve(np.array(actor_losses), np.ones(rolling_length), mode=\"valid\")\n",
    "    / rolling_length\n",
    ")\n",
    "axs[0, 1].plot(actor_ma)\n",
    "axs[0, 1].set_title('Actor Loss')\n",
    "axs[0, 1].set_yscale('log')  # Set log scale for the y-axis\n",
    "\n",
    "\n",
    "# entropy\n",
    "axs[1][0].set_title(\"Entropy\")\n",
    "entropy_moving_average = (\n",
    "    np.convolve(np.array(entropies), np.ones(rolling_length), mode=\"valid\")\n",
    "    / rolling_length\n",
    ")\n",
    "axs[1][0].plot(entropy_moving_average)\n",
    "axs[1][0].set_xlabel(\"Number of updates\")\n",
    "\n",
    "\n",
    "\n",
    "#axs[1, 1].plot(steps_episodes, episode_returns)\n",
    "#axs[1, 1].set_title('Episode Rewards')\n",
    "axs[1, 1].plot(evaluation_returns)\n",
    "axs[1, 1].set_title('Evaluation Returns')\n",
    "plt.tight_layout()\n",
    "plt.show()\n"
   ]
  },
  {
   "cell_type": "markdown",
   "metadata": {},
   "source": [
    "## 3.2 SAVE PLOTS"
   ]
  },
  {
   "cell_type": "code",
   "execution_count": 20,
   "metadata": {},
   "outputs": [],
   "source": [
    "#save the plot\n",
    "if stochasticity_bool:\n",
    "    fig.savefig(f\"figures/A2C_{n_steps_per_update}step_stoch_seed{seed_value}.png\")\n",
    "else:\n",
    "    fig.savefig(f\"figures/A2C_{n_steps_per_update}step_nostoch_seed{seed_value}.png\")"
   ]
  },
  {
   "cell_type": "code",
   "execution_count": null,
   "metadata": {},
   "outputs": [],
   "source": [
    "plt.plot(evaluation_returns)\n",
    "plt.title(\"Evaluation returns\")\n",
    "plt.xlabel(\"Number of evaluations\")\n",
    "plt.ylabel(\"Return\")\n",
    "plt.show()"
   ]
  },
  {
   "cell_type": "markdown",
   "metadata": {},
   "source": [
    "## 3.3 SAVE/LOAD AGENT WEIGHTS"
   ]
  },
  {
   "cell_type": "code",
   "execution_count": 9,
   "metadata": {},
   "outputs": [],
   "source": [
    "save_weights = True\n",
    "load_weights = False\n",
    "\n",
    "actor_weights_path = \"weights/actor_weightss.h5\"\n",
    "critic_weights_path = \"weights/critic_weightss.h5\"\n",
    "\n",
    "if not os.path.exists(\"weights\"):\n",
    "    os.mkdir(\"weights\")\n",
    "\n",
    "\"\"\" save network weights \"\"\"\n",
    "if save_weights:\n",
    "    torch.save(agent.actor.state_dict(), actor_weights_path)\n",
    "    torch.save(agent.critic.state_dict(), critic_weights_path)\n",
    "\n",
    "\n",
    "\"\"\" load network weights \"\"\"\n",
    "if load_weights:\n",
    "    agent = A2C(obs_shape, action_shape, device, critic_lr, actor_lr, 1)\n",
    "\n",
    "    agent.actor.load_state_dict(torch.load(actor_weights_path))\n",
    "    agent.critic.load_state_dict(torch.load(critic_weights_path))\n",
    "    agent.actor.eval()\n",
    "    agent.critic.eval()"
   ]
  },
  {
   "cell_type": "markdown",
   "metadata": {},
   "source": [
    "## 3.4 SHOWCASE AGENT"
   ]
  },
  {
   "cell_type": "code",
   "execution_count": 10,
   "metadata": {},
   "outputs": [
    {
     "name": "stdout",
     "output_type": "stream",
     "text": [
      "starting episode 0...\n"
     ]
    },
    {
     "name": "stderr",
     "output_type": "stream",
     "text": [
      "/opt/anaconda3/envs/rl_project/lib/python3.9/site-packages/torch/nn/modules/module.py:1511: UserWarning: Implicit dimension choice for softmax has been deprecated. Change the call to include dim=X as an argument.\n",
      "  return self._call_impl(*args, **kwargs)\n"
     ]
    },
    {
     "name": "stdout",
     "output_type": "stream",
     "text": [
      "starting episode 1...\n",
      "starting episode 2...\n"
     ]
    },
    {
     "ename": "",
     "evalue": "",
     "output_type": "error",
     "traceback": [
      "\u001b[1;31mThe Kernel crashed while executing code in the current cell or a previous cell. \n",
      "\u001b[1;31mPlease review the code in the cell(s) to identify a possible cause of the failure. \n",
      "\u001b[1;31mClick <a href='https://aka.ms/vscodeJupyterKernelCrash'>here</a> for more info. \n",
      "\u001b[1;31mView Jupyter <a href='command:jupyter.viewOutput'>log</a> for further details."
     ]
    }
   ],
   "source": [
    "n_showcase_episodes = 3\n",
    "\n",
    "for episode in range(n_showcase_episodes):\n",
    "    print(f\"starting episode {episode}...\")\n",
    "\n",
    "    # create a new sample environment to get new random parameters\n",
    "    env = gym.make(\"CartPole-v1\", render_mode=\"human\", max_episode_steps=500)\n",
    "\n",
    "    # get an initial state\n",
    "    state, info = env.reset()\n",
    "\n",
    "    # play one episode\n",
    "    done = False\n",
    "    while not done:\n",
    "        # select an action A_{t} using S_{t} as input for the agent\n",
    "        with torch.no_grad():\n",
    "            action, _, _, _ = agent.select_action(state[None, :], bool_greedy=True)\n",
    "\n",
    "        # perform the action A_{t} in the environment to get S_{t+1} and R_{t+1}\n",
    "        state, reward, terminated, truncated, info = env.step(action.item())\n",
    "\n",
    "        # update if the environment is done\n",
    "        done = terminated or truncated\n",
    "\n",
    "env.close()"
   ]
  }
 ],
 "metadata": {
  "kernelspec": {
   "display_name": "Python 3.12.0 64-bit",
   "language": "python",
   "name": "python3"
  },
  "language_info": {
   "codemirror_mode": {
    "name": "ipython",
    "version": 3
   },
   "file_extension": ".py",
   "mimetype": "text/x-python",
   "name": "python",
   "nbconvert_exporter": "python",
   "pygments_lexer": "ipython3",
   "version": "3.9.19"
  },
  "vscode": {
   "interpreter": {
    "hash": "682406ea7d4048a1b69a8b343d812f112c46e0c88f74c82cf5d88525c921faf9"
   }
  }
 },
 "nbformat": 4,
 "nbformat_minor": 2
}
