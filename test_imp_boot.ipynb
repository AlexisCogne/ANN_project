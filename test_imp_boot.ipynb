{
 "cells": [
  {
   "cell_type": "markdown",
   "metadata": {},
   "source": [
    "# 1. Utilities"
   ]
  },
  {
   "cell_type": "markdown",
   "metadata": {},
   "source": [
    "## 1.1 Imports\n"
   ]
  },
  {
   "cell_type": "code",
   "execution_count": 96,
   "metadata": {},
   "outputs": [
    {
     "name": "stdout",
     "output_type": "stream",
     "text": [
      "The autoreload extension is already loaded. To reload it, use:\n",
      "  %reload_ext autoreload\n"
     ]
    }
   ],
   "source": [
    "import gymnasium as gym\n",
    "import torch\n",
    "import torch.nn as nn\n",
    "import torch.nn.functional as F\n",
    "import numpy as np\n",
    "import matplotlib.pyplot as plt\n",
    "from A2C_boot import A2C\n",
    "from tqdm import tqdm\n",
    "import os\n",
    "%load_ext autoreload\n",
    "%autoreload 2"
   ]
  },
  {
   "cell_type": "markdown",
   "metadata": {},
   "source": [
    "## 1.2 Create Environment\n"
   ]
  },
  {
   "cell_type": "code",
   "execution_count": 97,
   "metadata": {},
   "outputs": [
    {
     "name": "stdout",
     "output_type": "stream",
     "text": [
      "torch.Size([2, 1])\n",
      "tensor([[0],\n",
      "        [2]])\n",
      "0\n",
      "1\n",
      "1\n"
     ]
    }
   ],
   "source": [
    "x = torch.tensor([[1,4,1],[0,4,1],[0,1,1]], requires_grad=False)\n",
    "x = torch.tensor([1,4,1], requires_grad=False)\n",
    "\n",
    "#find the indices of the values that are equal to 1, it should give 0 and 1\n",
    "indices =torch.nonzero(x == 1)\n",
    "print(indices.shape)\n",
    "print(indices)\n",
    "print(indices[0].item())\n",
    "for t in range(indices.shape[0]):\n",
    "    print(x[indices[t]].item())\n",
    "\n"
   ]
  },
  {
   "cell_type": "code",
   "execution_count": 108,
   "metadata": {},
   "outputs": [
    {
     "name": "stdout",
     "output_type": "stream",
     "text": [
      "4\n",
      "2\n"
     ]
    }
   ],
   "source": [
    "# environment hyperparams\n",
    "#option 1 :  use n_updates to define n_steps\n",
    "n_updates = 100000\n",
    "n_envs = 1\n",
    "n_steps_per_update = 5\n",
    "n_steps = n_envs * n_steps_per_update * n_updates\n",
    "\n",
    "# agent hyperparams\n",
    "gamma = 0.99  # discount factor\n",
    "ent_coef = 0.01  # coefficient for the entropy bonus (to encourage exploration)\n",
    "actor_lr = 1e-5\n",
    "critic_lr = 1e-3\n",
    "\n",
    "# Note: the actor has a slower learning rate so that the value targets become\n",
    "# more stationary and are theirfore easier to estimate for the critic\n",
    "\n",
    "# environment setup\n",
    "#envs = gym.vector.make(\"CartPole-v1\", num_envs=n_envs)\n",
    "env = gym.make(\"CartPole-v1\")\n",
    "\n",
    "obs_shape = env.observation_space.shape[0]\n",
    "print(obs_shape)\n",
    "action_shape = env.action_space.n\n",
    "print(action_shape)\n",
    "# set the device\n",
    "use_cuda = False\n",
    "if use_cuda:\n",
    "    device = torch.device(\"cuda\" if torch.cuda.is_available() else \"cpu\")\n",
    "else:\n",
    "    device = torch.device(\"cpu\")\n",
    "\n",
    "# init the agent\n",
    "agent = A2C(obs_shape, action_shape, device, critic_lr, actor_lr, n_envs)"
   ]
  },
  {
   "cell_type": "code",
   "execution_count": 109,
   "metadata": {},
   "outputs": [
    {
     "name": "stderr",
     "output_type": "stream",
     "text": [
      "100%|██████████| 100000/100000 [15:46<00:00, 105.61it/s]\n"
     ]
    }
   ],
   "source": [
    "# LOGGED VARIABLES\n",
    "critic_losses = []\n",
    "actor_losses = []\n",
    "entropies = []\n",
    "episode_returns = []\n",
    "steps_episodes = [] # logs the steps taken in each episode\n",
    "\n",
    "# COUNTERS\n",
    "steps = 0\n",
    "ep_counter = 0\n",
    "ep_reward = 0\n",
    "\n",
    "# VARIABLE INITIALIZATION\n",
    "is_truncated = False\n",
    "is_terminated = False\n",
    "states, info = env.reset(seed=42)\n",
    "\n",
    "\n",
    "\n",
    "# use tqdm to get a progress bar for training\n",
    "for steps in tqdm(range(n_updates)):\n",
    "        \n",
    "\n",
    "    # reset lists that collect experiences of a n_steps_per_update\n",
    "    n_value_preds = torch.zeros(n_steps_per_update, n_envs, device=device)\n",
    "    n_action_log_probs = torch.zeros(n_steps_per_update, n_envs, device=device)\n",
    "    # don't take mask and reward gradient\n",
    "    masks = torch.ones(n_steps_per_update, n_envs, device=device,requires_grad = False)\n",
    "    n_rewards = torch.zeros(n_steps_per_update, n_envs, device=device,requires_grad = False)\n",
    "    end_states = []\n",
    "    end_states_idx = [0]\n",
    "\n",
    "    # play n_steps_per_update to collect data\n",
    "    for step in range(n_steps_per_update):\n",
    "\n",
    "        # select an action A_{t} using S_{t} as input for the agent, get actions and values Vt\n",
    "        actions, action_log_probs, V_t, entropy = agent.select_action(states, bool_greedy=False)\n",
    "\n",
    "        # ensure no grad is taken in the step\n",
    "        with torch.no_grad():\n",
    "            # perform the action A_{t} in the environment to get S_{t+1} and R_{t+1}\n",
    "            states, reward, is_terminated, is_truncated, infos = env.step(\n",
    "                actions.cpu().numpy()\n",
    "            )\n",
    "            ep_reward += reward # increase episode return\n",
    "            mask = not is_terminated # define mask for bootstrapping\n",
    "\n",
    "        # log the value, reward and action log prob of the last step\n",
    "        n_value_preds[step] = torch.squeeze(V_t)\n",
    "        n_rewards[step] = torch.tensor(reward, device=device)\n",
    "        n_action_log_probs[step] = action_log_probs\n",
    "\n",
    "        # for each env the mask is 1 if the episode is ongoing and 0 if it is terminated (not by truncation!)\n",
    "        masks[step] = torch.tensor(mask) # allows for correct bootstrapping\n",
    "        \n",
    "        # reset environment if truncated or terminated\n",
    "        if is_terminated or is_truncated:\n",
    "            states_tensor = torch.tensor(states, device=device) # Transform the last state reached (S_t+n) to a tensor\n",
    "            end_states.append(states_tensor)\n",
    "            end_states_idx.append(step)\n",
    "            states, info = env.reset(seed=42)\n",
    "            ep_counter += 1\n",
    "            steps_episodes.append(steps)\n",
    "            episode_returns.append(ep_reward)\n",
    "            ep_reward = 0\n",
    "\n",
    "    \n",
    "    # if statement to make sure we don't append the end state twice\n",
    "    if not is_terminated and not is_truncated:\n",
    "        states_tensor = torch.tensor(states, device=device) # Transform the last state reached (S_t+n) to a tensor\n",
    "        end_states.append(states_tensor)\n",
    "        end_states_idx.append(step)\n",
    "    # calculate the losses for actor and critic\n",
    "    critic_loss, actor_loss = agent.get_losses(\n",
    "        n_rewards,\n",
    "        n_action_log_probs,\n",
    "        n_value_preds,\n",
    "        entropy,\n",
    "        masks,\n",
    "        gamma,\n",
    "        end_states,\n",
    "        end_states_idx\n",
    "    )\n",
    "\n",
    "    # update the actor and critic networks\n",
    "    agent.update_parameters(critic_loss, actor_loss)\n",
    "\n",
    "    # log the losses and entropy\n",
    "    critic_losses.append(critic_loss.detach().cpu().numpy())\n",
    "    actor_losses.append(actor_loss.detach().cpu().numpy())\n",
    "    entropies.append(entropy.detach().mean().cpu().numpy())\n",
    "\n",
    "\n",
    "\n"
   ]
  },
  {
   "cell_type": "code",
   "execution_count": 114,
   "metadata": {},
   "outputs": [
    {
     "data": {
      "image/png": "[encoded data removed]",
      "text/plain": [
       "<Figure size 1200x500 with 4 Axes>"
      ]
     },
     "metadata": {},
     "output_type": "display_data"
    }
   ],
   "source": [
    "fig, axs = plt.subplots(nrows=2, ncols=2, figsize=(12, 5))\n",
    "critic_losses = np.array(critic_losses)\n",
    "capped_loss = critic_losses[critic_losses < 1]\n",
    "axs[0, 0].plot(critic_losses)\n",
    "axs[0, 0].set_title('Critic Loss')\n",
    "axs[0, 0].set_yscale('log')  # Set log scale for the y-axis\n",
    "axs[0, 1].plot(actor_losses)\n",
    "axs[0, 1].set_title('Actor Loss')\n",
    "axs[0, 1].set_yscale('log')  # Set log scale for the y-axis\n",
    "axs[1, 0].plot(entropies)\n",
    "axs[1, 0].set_title('Entropy')\n",
    "axs[1, 1].plot(steps_episodes, episode_returns)\n",
    "axs[1, 1].set_title('Episode Rewards')\n",
    "plt.tight_layout()\n",
    "plt.show()\n"
   ]
  },
  {
   "cell_type": "code",
   "execution_count": 115,
   "metadata": {},
   "outputs": [],
   "source": [
    "#save the plot\n",
    "fig.savefig(\"A2C_boot.png\")"
   ]
  },
  {
   "cell_type": "markdown",
   "metadata": {},
   "source": [
    "## saving/loading weights"
   ]
  },
  {
   "cell_type": "code",
   "execution_count": 9,
   "metadata": {},
   "outputs": [],
   "source": [
    "save_weights = True\n",
    "load_weights = False\n",
    "\n",
    "actor_weights_path = \"weights/actor_weightss.h5\"\n",
    "critic_weights_path = \"weights/critic_weightss.h5\"\n",
    "\n",
    "if not os.path.exists(\"weights\"):\n",
    "    os.mkdir(\"weights\")\n",
    "\n",
    "\"\"\" save network weights \"\"\"\n",
    "if save_weights:\n",
    "    torch.save(agent.actor.state_dict(), actor_weights_path)\n",
    "    torch.save(agent.critic.state_dict(), critic_weights_path)\n",
    "\n",
    "\n",
    "\"\"\" load network weights \"\"\"\n",
    "if load_weights:\n",
    "    agent = A2C(obs_shape, action_shape, device, critic_lr, actor_lr, 1)\n",
    "\n",
    "    agent.actor.load_state_dict(torch.load(actor_weights_path))\n",
    "    agent.critic.load_state_dict(torch.load(critic_weights_path))\n",
    "    agent.actor.eval()\n",
    "    agent.critic.eval()"
   ]
  },
  {
   "cell_type": "markdown",
   "metadata": {},
   "source": [
    "## SHOWCASE"
   ]
  },
  {
   "cell_type": "code",
   "execution_count": 10,
   "metadata": {},
   "outputs": [
    {
     "name": "stdout",
     "output_type": "stream",
     "text": [
      "starting episode 0...\n"
     ]
    },
    {
     "name": "stderr",
     "output_type": "stream",
     "text": [
      "/opt/anaconda3/envs/rl_project/lib/python3.9/site-packages/torch/nn/modules/module.py:1511: UserWarning: Implicit dimension choice for softmax has been deprecated. Change the call to include dim=X as an argument.\n",
      "  return self._call_impl(*args, **kwargs)\n"
     ]
    },
    {
     "name": "stdout",
     "output_type": "stream",
     "text": [
      "starting episode 1...\n",
      "starting episode 2...\n"
     ]
    },
    {
     "ename": "",
     "evalue": "",
     "output_type": "error",
     "traceback": [
      "\u001b[1;31mThe Kernel crashed while executing code in the current cell or a previous cell. \n",
      "\u001b[1;31mPlease review the code in the cell(s) to identify a possible cause of the failure. \n",
      "\u001b[1;31mClick <a href='https://aka.ms/vscodeJupyterKernelCrash'>here</a> for more info. \n",
      "\u001b[1;31mView Jupyter <a href='command:jupyter.viewOutput'>log</a> for further details."
     ]
    }
   ],
   "source": [
    "n_showcase_episodes = 3\n",
    "\n",
    "for episode in range(n_showcase_episodes):\n",
    "    print(f\"starting episode {episode}...\")\n",
    "\n",
    "    # create a new sample environment to get new random parameters\n",
    "    env = gym.make(\"CartPole-v1\", render_mode=\"human\", max_episode_steps=500)\n",
    "\n",
    "    # get an initial state\n",
    "    state, info = env.reset()\n",
    "\n",
    "    # play one episode\n",
    "    done = False\n",
    "    while not done:\n",
    "        # select an action A_{t} using S_{t} as input for the agent\n",
    "        with torch.no_grad():\n",
    "            action, _, _, _ = agent.select_action(state[None, :], bool_greedy=True)\n",
    "\n",
    "        # perform the action A_{t} in the environment to get S_{t+1} and R_{t+1}\n",
    "        state, reward, terminated, truncated, info = env.step(action.item())\n",
    "\n",
    "        # update if the environment is done\n",
    "        done = terminated or truncated\n",
    "\n",
    "env.close()"
   ]
  },
  {
   "cell_type": "markdown",
   "metadata": {},
   "source": [
    "### 1.2.1 Printing informations"
   ]
  },
  {
   "cell_type": "code",
   "execution_count": null,
   "metadata": {},
   "outputs": [
    {
     "ename": "NameError",
     "evalue": "name 'env' is not defined",
     "output_type": "error",
     "traceback": [
      "\u001b[0;31m---------------------------------------------------------------------------\u001b[0m",
      "\u001b[0;31mNameError\u001b[0m                                 Traceback (most recent call last)",
      "Cell \u001b[0;32mIn[5], line 1\u001b[0m\n\u001b[0;32m----> 1\u001b[0m \u001b[38;5;28mprint\u001b[39m(\u001b[38;5;124mf\u001b[39m\u001b[38;5;124m\"\u001b[39m\u001b[38;5;124mAction space: \u001b[39m\u001b[38;5;132;01m{\u001b[39;00menv\u001b[38;5;241m.\u001b[39maction_space\u001b[38;5;132;01m}\u001b[39;00m\u001b[38;5;124m\"\u001b[39m)\n\u001b[1;32m      2\u001b[0m \u001b[38;5;28mprint\u001b[39m(\u001b[38;5;124mf\u001b[39m\u001b[38;5;124m\"\u001b[39m\u001b[38;5;124mObservation space: \u001b[39m\u001b[38;5;132;01m{\u001b[39;00menv\u001b[38;5;241m.\u001b[39mobservation_space\u001b[38;5;132;01m}\u001b[39;00m\u001b[38;5;124m\"\u001b[39m)\n\u001b[1;32m      3\u001b[0m \u001b[38;5;28mprint\u001b[39m(\u001b[38;5;124m\"\u001b[39m\u001b[38;5;124m------\u001b[39m\u001b[38;5;124m\"\u001b[39m)\n",
      "\u001b[0;31mNameError\u001b[0m: name 'env' is not defined"
     ]
    }
   ],
   "source": [
    "print(f\"Action space: {env.action_space}\")\n",
    "print(f\"Observation space: {env.observation_space}\")\n",
    "print(\"------\")\n",
    "print(f\"Number of actions available: {env.action_space.n}\")\n",
    "print(f\"Observation shape: {env.observation_space.shape}\")"
   ]
  },
  {
   "cell_type": "markdown",
   "metadata": {},
   "source": [
    "## 1.3 Define the A2C Class\n"
   ]
  },
  {
   "cell_type": "markdown",
   "metadata": {},
   "source": [
    "# 2. Running the Agents (Discrete Case)\n"
   ]
  },
  {
   "cell_type": "markdown",
   "metadata": {},
   "source": [
    "A2C.py and then we merge\n"
   ]
  },
  {
   "cell_type": "code",
   "execution_count": null,
   "metadata": {},
   "outputs": [],
   "source": [
    "from A2C import *"
   ]
  },
  {
   "cell_type": "markdown",
   "metadata": {},
   "source": [
    "## 1.4 Training function\n",
    "\n"
   ]
  },
  {
   "cell_type": "markdown",
   "metadata": {},
   "source": [
    "train.py and then we merge\n"
   ]
  },
  {
   "cell_type": "code",
   "execution_count": null,
   "metadata": {},
   "outputs": [],
   "source": [
    "from training import *"
   ]
  },
  {
   "cell_type": "markdown",
   "metadata": {},
   "source": [
    "## 1.5 Evaluation functions"
   ]
  },
  {
   "cell_type": "markdown",
   "metadata": {},
   "source": []
  },
  {
   "cell_type": "markdown",
   "metadata": {},
   "source": [
    "# 2. Running the Agents (Discrete Case)\n"
   ]
  },
  {
   "cell_type": "markdown",
   "metadata": {},
   "source": []
  },
  {
   "cell_type": "markdown",
   "metadata": {},
   "source": [
    "## 2.1 Agent 1"
   ]
  },
  {
   "cell_type": "markdown",
   "metadata": {},
   "source": []
  },
  {
   "cell_type": "markdown",
   "metadata": {},
   "source": [
    "# 3. Running the Agents (Continuous Case)\n"
   ]
  },
  {
   "cell_type": "markdown",
   "metadata": {},
   "source": []
  }
 ],
 "metadata": {
  "kernelspec": {
   "display_name": "Python 3.12.0 64-bit",
   "language": "python",
   "name": "python3"
  },
  "language_info": {
   "codemirror_mode": {
    "name": "ipython",
    "version": 3
   },
   "file_extension": ".py",
   "mimetype": "text/x-python",
   "name": "python",
   "nbconvert_exporter": "python",
   "pygments_lexer": "ipython3",
   "version": "3.9.19"
  },
  "vscode": {
   "interpreter": {
    "hash": "682406ea7d4048a1b69a8b343d812f112c46e0c88f74c82cf5d88525c921faf9"
   }
  }
 },
 "nbformat": 4,
 "nbformat_minor": 2
}
